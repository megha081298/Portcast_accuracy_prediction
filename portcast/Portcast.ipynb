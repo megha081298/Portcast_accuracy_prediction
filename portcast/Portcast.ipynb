{
 "cells": [
  {
   "cell_type": "markdown",
   "id": "c91a3837",
   "metadata": {},
   "source": [
    "Impoting the libraries as per required.Data is related to predicting the accuracy of the model so we are using Logistic regression for it."
   ]
  },
  {
   "cell_type": "code",
   "execution_count": 1,
   "id": "ebf96b12",
   "metadata": {},
   "outputs": [],
   "source": [
    "import pandas as pd\n",
    "import numpy as np\n",
    "from sklearn.model_selection import train_test_split\n",
    "from sklearn.preprocessing import StandardScaler\n",
    "from sklearn.linear_model import LogisticRegression\n",
    "from sklearn.metrics import accuracy_score\n",
    "import matplotlib.pyplot as plot\n",
    "from matplotlib.colors import ListedColormap"
   ]
  },
  {
   "cell_type": "code",
   "execution_count": 2,
   "id": "9ec03771",
   "metadata": {},
   "outputs": [
    {
     "data": {
      "text/html": [
       "<div>\n",
       "<style scoped>\n",
       "    .dataframe tbody tr th:only-of-type {\n",
       "        vertical-align: middle;\n",
       "    }\n",
       "\n",
       "    .dataframe tbody tr th {\n",
       "        vertical-align: top;\n",
       "    }\n",
       "\n",
       "    .dataframe thead th {\n",
       "        text-align: right;\n",
       "    }\n",
       "</style>\n",
       "<table border=\"1\" class=\"dataframe\">\n",
       "  <thead>\n",
       "    <tr style=\"text-align: right;\">\n",
       "      <th></th>\n",
       "      <th>vessel_live_info_id</th>\n",
       "      <th>timestamp_utc</th>\n",
       "      <th>scheduled_arrival_utc</th>\n",
       "      <th>estimated_arrival_utc</th>\n",
       "      <th>imo</th>\n",
       "      <th>port_code</th>\n",
       "      <th>actual_arrival_utc</th>\n",
       "    </tr>\n",
       "  </thead>\n",
       "  <tbody>\n",
       "    <tr>\n",
       "      <th>0</th>\n",
       "      <td>4e1582e1-ea33-4977-b84e-886f0095bee4</td>\n",
       "      <td>2021-07-02T02:32:29Z</td>\n",
       "      <td>2021-09-05T18:30:00Z</td>\n",
       "      <td>2021-08-07T13:50:21.965794Z</td>\n",
       "      <td>9393307</td>\n",
       "      <td>INMUN</td>\n",
       "      <td>2021-08-31T08:45:09.54Z</td>\n",
       "    </tr>\n",
       "    <tr>\n",
       "      <th>1</th>\n",
       "      <td>a0b4c72a-a7ec-4888-b513-77c837b0b82d</td>\n",
       "      <td>2021-07-03T03:17:16Z</td>\n",
       "      <td>2021-09-05T18:30:00Z</td>\n",
       "      <td>2021-08-07T06:24:55.229106Z</td>\n",
       "      <td>9393307</td>\n",
       "      <td>INMUN</td>\n",
       "      <td>2021-08-31T08:45:09.54Z</td>\n",
       "    </tr>\n",
       "    <tr>\n",
       "      <th>2</th>\n",
       "      <td>4947dc14-3471-48bc-bee1-7ba82e301182</td>\n",
       "      <td>2021-07-04T02:53:17Z</td>\n",
       "      <td>2021-09-05T18:30:00Z</td>\n",
       "      <td>2021-08-07T20:52:36.357922Z</td>\n",
       "      <td>9393307</td>\n",
       "      <td>INMUN</td>\n",
       "      <td>2021-08-31T08:45:09.54Z</td>\n",
       "    </tr>\n",
       "    <tr>\n",
       "      <th>3</th>\n",
       "      <td>f90f626f-1933-4c46-8749-947c2a246e0b</td>\n",
       "      <td>2021-07-04T23:55:04Z</td>\n",
       "      <td>2021-09-05T18:30:00Z</td>\n",
       "      <td>2021-08-08T16:25:14.146273Z</td>\n",
       "      <td>9393307</td>\n",
       "      <td>INMUN</td>\n",
       "      <td>2021-08-31T08:45:09.54Z</td>\n",
       "    </tr>\n",
       "    <tr>\n",
       "      <th>4</th>\n",
       "      <td>7ff01141-9dab-41ef-b1b7-70abc29df3ea</td>\n",
       "      <td>2021-07-06T00:33:44Z</td>\n",
       "      <td>2021-09-05T18:30:00Z</td>\n",
       "      <td>2021-08-08T15:46:31.015292Z</td>\n",
       "      <td>9393307</td>\n",
       "      <td>INMUN</td>\n",
       "      <td>2021-08-31T08:45:09.54Z</td>\n",
       "    </tr>\n",
       "  </tbody>\n",
       "</table>\n",
       "</div>"
      ],
      "text/plain": [
       "                    vessel_live_info_id         timestamp_utc  \\\n",
       "0  4e1582e1-ea33-4977-b84e-886f0095bee4  2021-07-02T02:32:29Z   \n",
       "1  a0b4c72a-a7ec-4888-b513-77c837b0b82d  2021-07-03T03:17:16Z   \n",
       "2  4947dc14-3471-48bc-bee1-7ba82e301182  2021-07-04T02:53:17Z   \n",
       "3  f90f626f-1933-4c46-8749-947c2a246e0b  2021-07-04T23:55:04Z   \n",
       "4  7ff01141-9dab-41ef-b1b7-70abc29df3ea  2021-07-06T00:33:44Z   \n",
       "\n",
       "  scheduled_arrival_utc        estimated_arrival_utc      imo port_code  \\\n",
       "0  2021-09-05T18:30:00Z  2021-08-07T13:50:21.965794Z  9393307     INMUN   \n",
       "1  2021-09-05T18:30:00Z  2021-08-07T06:24:55.229106Z  9393307     INMUN   \n",
       "2  2021-09-05T18:30:00Z  2021-08-07T20:52:36.357922Z  9393307     INMUN   \n",
       "3  2021-09-05T18:30:00Z  2021-08-08T16:25:14.146273Z  9393307     INMUN   \n",
       "4  2021-09-05T18:30:00Z  2021-08-08T15:46:31.015292Z  9393307     INMUN   \n",
       "\n",
       "        actual_arrival_utc  \n",
       "0  2021-08-31T08:45:09.54Z  \n",
       "1  2021-08-31T08:45:09.54Z  \n",
       "2  2021-08-31T08:45:09.54Z  \n",
       "3  2021-08-31T08:45:09.54Z  \n",
       "4  2021-08-31T08:45:09.54Z  "
      ]
     },
     "execution_count": 2,
     "metadata": {},
     "output_type": "execute_result"
    }
   ],
   "source": [
    "\n",
    "#importing the data file which I stored in Excel format.\n",
    "\n",
    "dataframe=pd.read_excel(\"result.xlsx\")\n",
    "dataframe.head()\n"
   ]
  },
  {
   "cell_type": "code",
   "execution_count": 3,
   "id": "1c3215c2",
   "metadata": {},
   "outputs": [
    {
     "data": {
      "text/plain": [
       "False"
      ]
     },
     "execution_count": 3,
     "metadata": {},
     "output_type": "execute_result"
    }
   ],
   "source": [
    "#initial check and finding null values of the data.\n",
    "\n",
    "dataframe.isnull().values.any()"
   ]
  },
  {
   "cell_type": "code",
   "execution_count": 4,
   "id": "a8f09cd8",
   "metadata": {},
   "outputs": [
    {
     "data": {
      "text/plain": [
       "vessel_live_info_id      object\n",
       "timestamp_utc            object\n",
       "scheduled_arrival_utc    object\n",
       "estimated_arrival_utc    object\n",
       "imo                       int64\n",
       "port_code                object\n",
       "actual_arrival_utc       object\n",
       "dtype: object"
      ]
     },
     "execution_count": 4,
     "metadata": {},
     "output_type": "execute_result"
    }
   ],
   "source": [
    "#finding the datatypes of the imported data.\n",
    "dataframe.dtypes\n"
   ]
  },
  {
   "cell_type": "code",
   "execution_count": 5,
   "id": "14b6b618",
   "metadata": {},
   "outputs": [],
   "source": [
    "#chamging the datatype from object to date time for the prediction.\n",
    "\n",
    "dataframe['estimated_arrival_utc'] = dataframe['estimated_arrival_utc'].astype('datetime64[ns]')\n",
    "dataframe[\"scheduled_arrival_utc\"] = pd.to_datetime(dataframe[\"scheduled_arrival_utc\"], \n",
    " format =\"%Y-%m-%dT%H:%M:%SZ\", \n",
    " errors = \"coerce\")\n",
    "dataframe['estimated_arrival_utc'] = dataframe['estimated_arrival_utc'].astype('datetime64[ns]')\n",
    "dataframe[\"timestamp_utc\"] = pd.to_datetime(dataframe[\"timestamp_utc\"], \n",
    " format = \"%Y-%m-%dT%H:%M:%SZ\", \n",
    " errors=\"coerce\")\n",
    "dataframe['actual_arrival_utc'] = dataframe['actual_arrival_utc'].astype('datetime64[ns]')"
   ]
  },
  {
   "cell_type": "code",
   "execution_count": 6,
   "id": "d058eb50",
   "metadata": {},
   "outputs": [
    {
     "data": {
      "text/plain": [
       "vessel_live_info_id              object\n",
       "timestamp_utc            datetime64[ns]\n",
       "scheduled_arrival_utc    datetime64[ns]\n",
       "estimated_arrival_utc    datetime64[ns]\n",
       "imo                               int64\n",
       "port_code                        object\n",
       "actual_arrival_utc       datetime64[ns]\n",
       "dtype: object"
      ]
     },
     "execution_count": 6,
     "metadata": {},
     "output_type": "execute_result"
    }
   ],
   "source": [
    "dataframe.dtypes"
   ]
  },
  {
   "cell_type": "code",
   "execution_count": 7,
   "id": "9e83cf0c",
   "metadata": {},
   "outputs": [
    {
     "data": {
      "text/plain": [
       "vessel_live_info_id               object\n",
       "timestamp_utc             datetime64[ns]\n",
       "scheduled_arrival_utc     datetime64[ns]\n",
       "estimated_arrival_utc     datetime64[ns]\n",
       "imo                                int64\n",
       "port_code                         object\n",
       "actual_arrival_utc        datetime64[ns]\n",
       "Actual_view              timedelta64[ns]\n",
       "Prediction_view          timedelta64[ns]\n",
       "days_gap                 timedelta64[ns]\n",
       "dtype: object"
      ]
     },
     "execution_count": 7,
     "metadata": {},
     "output_type": "execute_result"
    }
   ],
   "source": [
    "#metric for analysis.\n",
    "dataframe[\"Actual_view\"]=dataframe[\"actual_arrival_utc\"]-dataframe[\"timestamp_utc\"]\n",
    "dataframe[\"Prediction_view\"]=dataframe[\"estimated_arrival_utc\"]-dataframe[\"timestamp_utc\"]\n",
    "dataframe[\"days_gap\"]=dataframe[\"actual_arrival_utc\"]-dataframe[\"estimated_arrival_utc\"]\n",
    "\n",
    "#days_gap define the no of gaps in days between actual and estimated values.\n",
    "\n",
    "\n",
    "#checking how many entries of estimated time by portcast is same as that of actual arrival.\n",
    "(dataframe[\"estimated_arrival_utc\"]==dataframe[\"actual_arrival_utc\"]).sum()\n",
    "\n",
    "\n",
    "#checking how many entries have estimate time less than that of arrival time which shows the estimation made is\n",
    "#wrong which leads to wrong expectations.\n",
    "(dataframe[\"estimated_arrival_utc\"]<=dataframe[\"actual_arrival_utc\"]).sum()\n",
    "\n",
    "\n",
    "#checking how many entries have estimate time greater than that of arrival time which shows the estimation made is\n",
    "#good which leads to customer expecting the product come earlier than expected.\n",
    "(dataframe[\"estimated_arrival_utc\"]>=dataframe[\"actual_arrival_utc\"]).sum()\n",
    "\n",
    "\n",
    "\n",
    "#checking how many entries have arrived as same as that of scheduled time which shows 100% accuracy of arrival of product.\n",
    "(dataframe[\"scheduled_arrival_utc\"]==dataframe[\"actual_arrival_utc\"]).sum()\n",
    "\n",
    "\n",
    "#finding the minimum and maximum number of days of the actual view and prediction view.\n",
    "dataframe[\"Actual_view\"].min()\n",
    "dataframe[\"Actual_view\"].max()\n",
    "dataframe[\"Prediction_view\"].min()\n",
    "dataframe[\"Prediction_view\"].max()\n",
    "\n",
    "#maximum days gap where actual time is greater than estimated time which means there is a entry which states that\n",
    "#product arrived 48 dyas earlier than expected.\n",
    "dataframe[\"days_gap\"].max()\n",
    "\n",
    "#maximum days gap where actual time is lesser than estimated time which means there is a entry which states that\n",
    "#product arrived 51 dyas later than expected.\n",
    "dataframe[\"days_gap\"].min()\n",
    "\n",
    "\n",
    "\n",
    "\n",
    "#dataframe[\"actual_arrival_utc\"] = pd.to_numeric(dataframe[\"actual_arrival_utc\"])\n",
    "#dataframe[\"timestamp_utc\"] = pd.to_numeric(dataframe[\"timestamp_utc\"])\n",
    "#dataframe[\"scheduled_arrival_utc\"] = pd.to_numeric(dataframe[\"scheduled_arrival_utc\"])\n",
    "#dataframe[\"Actual_view\"] = pd.to_numeric(dataframe[\"Actual_view\"])\n",
    "#dataframe[\"Prediction_view\"] = pd.to_numeric(dataframe[\"Prediction_view\"])\n",
    "#dataframe[\"days_gap\"] = pd.to_numeric(dataframe[\"days_gap\"])\n",
    "#dataframe[\"estimated_arrival_utc\"] = pd.to_numeric(dataframe[\"estimated_arrival_utc\"])\n",
    "dataframe.dtypes\n",
    "\n",
    "\n",
    "\n",
    "\n",
    "\n",
    "\n",
    "\n",
    "\n",
    "\n"
   ]
  },
  {
   "cell_type": "code",
   "execution_count": 20,
   "id": "e7b4309a",
   "metadata": {},
   "outputs": [
    {
     "name": "stderr",
     "output_type": "stream",
     "text": [
      "<ipython-input-20-da1128e9a890>:4: FutureWarning: Series.dt.weekofyear and Series.dt.week have been deprecated.  Please use Series.dt.isocalendar().week instead.\n",
      "  df[\"EstimatedDay_week\"] = df[\"estimated_arrival_utc\"].dt.week\n",
      "<ipython-input-20-da1128e9a890>:12: FutureWarning: Series.dt.weekofyear and Series.dt.week have been deprecated.  Please use Series.dt.isocalendar().week instead.\n",
      "  df[\"ActualDay_week\"] = df[\"actual_arrival_utc\"].dt.week\n"
     ]
    },
    {
     "data": {
      "text/html": [
       "<div>\n",
       "<style scoped>\n",
       "    .dataframe tbody tr th:only-of-type {\n",
       "        vertical-align: middle;\n",
       "    }\n",
       "\n",
       "    .dataframe tbody tr th {\n",
       "        vertical-align: top;\n",
       "    }\n",
       "\n",
       "    .dataframe thead th {\n",
       "        text-align: right;\n",
       "    }\n",
       "</style>\n",
       "<table border=\"1\" class=\"dataframe\">\n",
       "  <thead>\n",
       "    <tr style=\"text-align: right;\">\n",
       "      <th></th>\n",
       "      <th>vessel_live_info_id</th>\n",
       "      <th>timestamp_utc</th>\n",
       "      <th>scheduled_arrival_utc</th>\n",
       "      <th>estimated_arrival_utc</th>\n",
       "      <th>imo</th>\n",
       "      <th>port_code</th>\n",
       "      <th>actual_arrival_utc</th>\n",
       "      <th>Actual_view</th>\n",
       "      <th>Prediction_view</th>\n",
       "      <th>days_gap</th>\n",
       "      <th>...</th>\n",
       "      <th>EstimatedDay_hour</th>\n",
       "      <th>EstimatedDay_minute</th>\n",
       "      <th>ActualDay_year</th>\n",
       "      <th>ActualDay_month</th>\n",
       "      <th>ActualDay_week</th>\n",
       "      <th>ActualDay_day</th>\n",
       "      <th>ActualDay_hour</th>\n",
       "      <th>ActualDay_minute</th>\n",
       "      <th>OUTPUT_LABEL</th>\n",
       "      <th>Daygap_year</th>\n",
       "    </tr>\n",
       "  </thead>\n",
       "  <tbody>\n",
       "    <tr>\n",
       "      <th>0</th>\n",
       "      <td>4e1582e1-ea33-4977-b84e-886f0095bee4</td>\n",
       "      <td>2021-07-02 02:32:29</td>\n",
       "      <td>2021-09-05 18:30:00</td>\n",
       "      <td>2021-08-07 13:50:21.965794</td>\n",
       "      <td>9393307</td>\n",
       "      <td>INMUN</td>\n",
       "      <td>2021-08-31 08:45:09.540</td>\n",
       "      <td>60 days 06:12:40.540000</td>\n",
       "      <td>36 days 11:17:52.965794</td>\n",
       "      <td>23 days 18:54:47.574206</td>\n",
       "      <td>...</td>\n",
       "      <td>13</td>\n",
       "      <td>50</td>\n",
       "      <td>2021</td>\n",
       "      <td>8</td>\n",
       "      <td>35</td>\n",
       "      <td>31</td>\n",
       "      <td>8</td>\n",
       "      <td>45</td>\n",
       "      <td>0</td>\n",
       "      <td>23</td>\n",
       "    </tr>\n",
       "    <tr>\n",
       "      <th>1</th>\n",
       "      <td>a0b4c72a-a7ec-4888-b513-77c837b0b82d</td>\n",
       "      <td>2021-07-03 03:17:16</td>\n",
       "      <td>2021-09-05 18:30:00</td>\n",
       "      <td>2021-08-07 06:24:55.229106</td>\n",
       "      <td>9393307</td>\n",
       "      <td>INMUN</td>\n",
       "      <td>2021-08-31 08:45:09.540</td>\n",
       "      <td>59 days 05:27:53.540000</td>\n",
       "      <td>35 days 03:07:39.229106</td>\n",
       "      <td>24 days 02:20:14.310894</td>\n",
       "      <td>...</td>\n",
       "      <td>6</td>\n",
       "      <td>24</td>\n",
       "      <td>2021</td>\n",
       "      <td>8</td>\n",
       "      <td>35</td>\n",
       "      <td>31</td>\n",
       "      <td>8</td>\n",
       "      <td>45</td>\n",
       "      <td>0</td>\n",
       "      <td>24</td>\n",
       "    </tr>\n",
       "    <tr>\n",
       "      <th>2</th>\n",
       "      <td>4947dc14-3471-48bc-bee1-7ba82e301182</td>\n",
       "      <td>2021-07-04 02:53:17</td>\n",
       "      <td>2021-09-05 18:30:00</td>\n",
       "      <td>2021-08-07 20:52:36.357922</td>\n",
       "      <td>9393307</td>\n",
       "      <td>INMUN</td>\n",
       "      <td>2021-08-31 08:45:09.540</td>\n",
       "      <td>58 days 05:51:52.540000</td>\n",
       "      <td>34 days 17:59:19.357922</td>\n",
       "      <td>23 days 11:52:33.182078</td>\n",
       "      <td>...</td>\n",
       "      <td>20</td>\n",
       "      <td>52</td>\n",
       "      <td>2021</td>\n",
       "      <td>8</td>\n",
       "      <td>35</td>\n",
       "      <td>31</td>\n",
       "      <td>8</td>\n",
       "      <td>45</td>\n",
       "      <td>0</td>\n",
       "      <td>23</td>\n",
       "    </tr>\n",
       "    <tr>\n",
       "      <th>3</th>\n",
       "      <td>f90f626f-1933-4c46-8749-947c2a246e0b</td>\n",
       "      <td>2021-07-04 23:55:04</td>\n",
       "      <td>2021-09-05 18:30:00</td>\n",
       "      <td>2021-08-08 16:25:14.146273</td>\n",
       "      <td>9393307</td>\n",
       "      <td>INMUN</td>\n",
       "      <td>2021-08-31 08:45:09.540</td>\n",
       "      <td>57 days 08:50:05.540000</td>\n",
       "      <td>34 days 16:30:10.146273</td>\n",
       "      <td>22 days 16:19:55.393727</td>\n",
       "      <td>...</td>\n",
       "      <td>16</td>\n",
       "      <td>25</td>\n",
       "      <td>2021</td>\n",
       "      <td>8</td>\n",
       "      <td>35</td>\n",
       "      <td>31</td>\n",
       "      <td>8</td>\n",
       "      <td>45</td>\n",
       "      <td>0</td>\n",
       "      <td>22</td>\n",
       "    </tr>\n",
       "    <tr>\n",
       "      <th>4</th>\n",
       "      <td>7ff01141-9dab-41ef-b1b7-70abc29df3ea</td>\n",
       "      <td>2021-07-06 00:33:44</td>\n",
       "      <td>2021-09-05 18:30:00</td>\n",
       "      <td>2021-08-08 15:46:31.015292</td>\n",
       "      <td>9393307</td>\n",
       "      <td>INMUN</td>\n",
       "      <td>2021-08-31 08:45:09.540</td>\n",
       "      <td>56 days 08:11:25.540000</td>\n",
       "      <td>33 days 15:12:47.015292</td>\n",
       "      <td>22 days 16:58:38.524708</td>\n",
       "      <td>...</td>\n",
       "      <td>15</td>\n",
       "      <td>46</td>\n",
       "      <td>2021</td>\n",
       "      <td>8</td>\n",
       "      <td>35</td>\n",
       "      <td>31</td>\n",
       "      <td>8</td>\n",
       "      <td>45</td>\n",
       "      <td>0</td>\n",
       "      <td>22</td>\n",
       "    </tr>\n",
       "  </tbody>\n",
       "</table>\n",
       "<p>5 rows × 30 columns</p>\n",
       "</div>"
      ],
      "text/plain": [
       "                    vessel_live_info_id       timestamp_utc  \\\n",
       "0  4e1582e1-ea33-4977-b84e-886f0095bee4 2021-07-02 02:32:29   \n",
       "1  a0b4c72a-a7ec-4888-b513-77c837b0b82d 2021-07-03 03:17:16   \n",
       "2  4947dc14-3471-48bc-bee1-7ba82e301182 2021-07-04 02:53:17   \n",
       "3  f90f626f-1933-4c46-8749-947c2a246e0b 2021-07-04 23:55:04   \n",
       "4  7ff01141-9dab-41ef-b1b7-70abc29df3ea 2021-07-06 00:33:44   \n",
       "\n",
       "  scheduled_arrival_utc      estimated_arrival_utc      imo port_code  \\\n",
       "0   2021-09-05 18:30:00 2021-08-07 13:50:21.965794  9393307     INMUN   \n",
       "1   2021-09-05 18:30:00 2021-08-07 06:24:55.229106  9393307     INMUN   \n",
       "2   2021-09-05 18:30:00 2021-08-07 20:52:36.357922  9393307     INMUN   \n",
       "3   2021-09-05 18:30:00 2021-08-08 16:25:14.146273  9393307     INMUN   \n",
       "4   2021-09-05 18:30:00 2021-08-08 15:46:31.015292  9393307     INMUN   \n",
       "\n",
       "       actual_arrival_utc             Actual_view         Prediction_view  \\\n",
       "0 2021-08-31 08:45:09.540 60 days 06:12:40.540000 36 days 11:17:52.965794   \n",
       "1 2021-08-31 08:45:09.540 59 days 05:27:53.540000 35 days 03:07:39.229106   \n",
       "2 2021-08-31 08:45:09.540 58 days 05:51:52.540000 34 days 17:59:19.357922   \n",
       "3 2021-08-31 08:45:09.540 57 days 08:50:05.540000 34 days 16:30:10.146273   \n",
       "4 2021-08-31 08:45:09.540 56 days 08:11:25.540000 33 days 15:12:47.015292   \n",
       "\n",
       "                 days_gap  ...  EstimatedDay_hour  EstimatedDay_minute  \\\n",
       "0 23 days 18:54:47.574206  ...                 13                   50   \n",
       "1 24 days 02:20:14.310894  ...                  6                   24   \n",
       "2 23 days 11:52:33.182078  ...                 20                   52   \n",
       "3 22 days 16:19:55.393727  ...                 16                   25   \n",
       "4 22 days 16:58:38.524708  ...                 15                   46   \n",
       "\n",
       "   ActualDay_year  ActualDay_month  ActualDay_week  ActualDay_day  \\\n",
       "0            2021                8              35             31   \n",
       "1            2021                8              35             31   \n",
       "2            2021                8              35             31   \n",
       "3            2021                8              35             31   \n",
       "4            2021                8              35             31   \n",
       "\n",
       "   ActualDay_hour  ActualDay_minute  OUTPUT_LABEL  Daygap_year  \n",
       "0               8                45             0           23  \n",
       "1               8                45             0           24  \n",
       "2               8                45             0           23  \n",
       "3               8                45             0           22  \n",
       "4               8                45             0           22  \n",
       "\n",
       "[5 rows x 30 columns]"
      ]
     },
     "execution_count": 20,
     "metadata": {},
     "output_type": "execute_result"
    }
   ],
   "source": [
    "df=dataframe\n",
    "df[\"EsitimatedDay_year\"] = df[\"estimated_arrival_utc\"].dt.year\n",
    "df[\"EstimatedDay_month\"] = df[\"estimated_arrival_utc\"].dt.month\n",
    "df[\"EstimatedDay_week\"] = df[\"estimated_arrival_utc\"].dt.week\n",
    "df[\"EstimatedDay_day\"] = df[\"estimated_arrival_utc\"].dt.day\n",
    "df[\"EstimatedDay_hour\"] = df[\"estimated_arrival_utc\"].dt.hour\n",
    "df[\"EstimatedDay_minute\"] = df[\"estimated_arrival_utc\"].dt.minute\n",
    "\n",
    "\n",
    "df[\"ActualDay_year\"] = df[\"actual_arrival_utc\"].dt.year\n",
    "df[\"ActualDay_month\"] = df[\"actual_arrival_utc\"].dt.month\n",
    "df[\"ActualDay_week\"] = df[\"actual_arrival_utc\"].dt.week\n",
    "df[\"ActualDay_day\"] = df[\"actual_arrival_utc\"].dt.day\n",
    "df[\"ActualDay_hour\"] = df[\"actual_arrival_utc\"].dt.hour\n",
    "df[\"ActualDay_minute\"] = df[\"actual_arrival_utc\"].dt.minute\n",
    "\n",
    "\n",
    "df[\"Daygap_year\"] = df[\"days_gap\"].dt.days\n",
    "df.head()\n"
   ]
  },
  {
   "cell_type": "code",
   "execution_count": 32,
   "id": "d14e45b0",
   "metadata": {},
   "outputs": [
    {
     "data": {
      "image/png": "[encoded data removed]",
      "text/plain": [
       "<Figure size 432x288 with 1 Axes>"
      ]
     },
     "metadata": {
      "needs_background": "light"
     },
     "output_type": "display_data"
    }
   ],
   "source": [
    "dataframe.plot.line(y=\"actual_arrival_utc\")\n",
    "plot.show(block=True)"
   ]
  },
  {
   "cell_type": "code",
   "execution_count": 35,
   "id": "67feed08",
   "metadata": {},
   "outputs": [
    {
     "data": {
      "text/plain": [
       "Index(['vessel_live_info_id', 'timestamp_utc', 'scheduled_arrival_utc',\n",
       "       'estimated_arrival_utc', 'imo', 'port_code', 'actual_arrival_utc',\n",
       "       'Actual_view', 'Prediction_view', 'days_gap', 'ScheduledDay_year',\n",
       "       'ScheduledDay_month', 'ScheduledDay_week', 'ScheduledDay_day',\n",
       "       'ScheduledDay_hour', 'ScheduledDay_minute', 'EsitimatedDay_year',\n",
       "       'EstimatedDay_month', 'EstimatedDay_week', 'EstimatedDay_day',\n",
       "       'EstimatedDay_hour', 'EstimatedDay_minute', 'ActualDay_year',\n",
       "       'ActualDay_month', 'ActualDay_week', 'ActualDay_day', 'ActualDay_hour',\n",
       "       'ActualDay_minute', 'OUTPUT_LABEL', 'Daygap_year'],\n",
       "      dtype='object')"
      ]
     },
     "execution_count": 35,
     "metadata": {},
     "output_type": "execute_result"
    }
   ],
   "source": [
    "#splitting the data into train and test for the prediction and finding the accuracy.\n",
    "df[\"Daygap_year\"].value_counts()\n",
    "df[\"OUTPUT_LABEL\"] = (df[\"Daygap_year\"] == \"0\").astype(\"int\")\n",
    "df.columns\n"
   ]
  },
  {
   "cell_type": "code",
   "execution_count": 40,
   "id": "a4f56d53",
   "metadata": {},
   "outputs": [
    {
     "name": "stderr",
     "output_type": "stream",
     "text": [
      "/opt/anaconda3/lib/python3.8/site-packages/sklearn/utils/validation.py:63: DataConversionWarning: A column-vector y was passed when a 1d array was expected. Please change the shape of y to (n_samples, ), for example using ravel().\n",
      "  return f(*args, **kwargs)\n",
      "/opt/anaconda3/lib/python3.8/site-packages/sklearn/linear_model/_logistic.py:763: ConvergenceWarning: lbfgs failed to converge (status=1):\n",
      "STOP: TOTAL NO. of ITERATIONS REACHED LIMIT.\n",
      "\n",
      "Increase the number of iterations (max_iter) or scale the data as shown in:\n",
      "    https://scikit-learn.org/stable/modules/preprocessing.html\n",
      "Please also refer to the documentation for alternative solver options:\n",
      "    https://scikit-learn.org/stable/modules/linear_model.html#logistic-regression\n",
      "  n_iter_i = _check_optimize_result(\n"
     ]
    },
    {
     "data": {
      "text/plain": [
       "0.08188976377952756"
      ]
     },
     "execution_count": 40,
     "metadata": {},
     "output_type": "execute_result"
    }
   ],
   "source": [
    "\n",
    "y=dataframe.iloc[:,[6]]\n",
    "X=dataframe.iloc[:,[16,17,18,19,20,21,22]]\n",
    "X_train,X_test,y_train,y_test=train_test_split(X,y,test_size=0.2,random_state=42)\n",
    "scaler=StandardScaler()\n",
    "scaler.fit(X_train)\n",
    "X_test=scaler.transform(X_test)\n",
    "model=LogisticRegression()\n",
    "model.fit(X_train,y_train)\n",
    "pred=model.predict(X_test)\n",
    "\n",
    "score=accuracy_score(y_test,pred)\n",
    "score"
   ]
  },
  {
   "cell_type": "code",
   "execution_count": null,
   "id": "a33f8b99",
   "metadata": {},
   "outputs": [],
   "source": []
  }
 ],
 "metadata": {
  "kernelspec": {
   "display_name": "Python 3",
   "language": "python",
   "name": "python3"
  },
  "language_info": {
   "codemirror_mode": {
    "name": "ipython",
    "version": 3
   },
   "file_extension": ".py",
   "mimetype": "text/x-python",
   "name": "python",
   "nbconvert_exporter": "python",
   "pygments_lexer": "ipython3",
   "version": "3.8.8"
  }
 },
 "nbformat": 4,
 "nbformat_minor": 5
}
